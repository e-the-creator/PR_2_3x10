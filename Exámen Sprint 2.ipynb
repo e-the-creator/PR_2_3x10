{
 "cells": [
  {
   "cell_type": "code",
   "execution_count": 1,
   "metadata": {},
   "outputs": [
    {
     "name": "stdout",
     "output_type": "stream",
     "text": [
      "['32415', ['mike', 'reed'], 32, ['ELECTRONICS', 'SPORT', 'BOOKS'], [894, 213, 173]]\n"
     ]
    }
   ],
   "source": [
    "users = [\n",
    "    ['32415', ' mike_reed ', 32.0, ['ELECTRONICS', 'SPORT', 'BOOKS'], [894, 213, 173]],\n",
    "    ['31980', 'kate morgan', 24.0, ['CLOTHES', 'BOOKS'], [439, 390]],\n",
    "    ['32156', ' john doe ', 37.0, ['ELECTRONICS', 'HOME', 'FOOD'], [459, 120, 99]],\n",
    "    ['32761', 'SAMANTHA SMITH', 29.0, ['CLOTHES', 'ELECTRONICS', 'BEAUTY'], [299, 679, 85]],\n",
    "    ['32984', 'David White', 41.0, ['BOOKS', 'HOME', 'SPORT'], [234, 329, 243]],\n",
    "    ['33001', 'emily brown', 26.0, ['BEAUTY', 'HOME', 'FOOD'], [213, 659, 79]],\n",
    "    ['33767', ' Maria Garcia', 33.0, ['CLOTHES', 'FOOD', 'BEAUTY'], [499, 189, 63]],\n",
    "    ['33912', 'JOSE MARTINEZ', 22.0, ['SPORT', 'ELECTRONICS', 'HOME'], [259, 549, 109]],\n",
    "    ['34009', 'lisa wilson ', 35.0, ['HOME', 'BOOKS', 'CLOTHES'], [329, 189, 329]],\n",
    "    ['34278', 'James Lee', 28.0, ['BEAUTY', 'CLOTHES', 'ELECTRONICS'], [189, 299, 579]],\n",
    "]\n",
    "\n",
    "def clean_user(user_name, age):# define tu función aquí\n",
    "    \n",
    "    # Paso 1: elimina del nombre espacios iniciales y finales, así como guiones\n",
    "    user_name_1 = user_name.strip().replace(\"_\",\" \")\n",
    "\n",
    "    # Paso 2: convierte la edad en entero\n",
    "    user_age_1 = int(age)\n",
    "\n",
    "    # Paso 3: separa el nombre y el apellido en una sublista\n",
    "    user_name_1 = user_name_1.split()\n",
    "\n",
    "    # Prepara la lista con la información completa del usuario\n",
    "    # Reemplaza el nombre y la edad originales con los datos limpios\n",
    "    user_info = [test_user[0], user_name_1, user_age_1, test_user[3], test_user[4]]\n",
    "    return user_info\n",
    "\n",
    "\n",
    "# Prueba la función\n",
    "test_user =['32415', ' mike_reed ', 32.0, ['ELECTRONICS', 'SPORT', 'BOOKS'], [894, 213, 173]]\n",
    "name_index = 1\n",
    "age_index = 2\n",
    "\n",
    "print(clean_user(test_user[name_index], test_user[age_index]))# completa aquí el llamado de la función"
   ]
  },
  {
   "cell_type": "code",
   "execution_count": 2,
   "metadata": {},
   "outputs": [
    {
     "name": "stdout",
     "output_type": "stream",
     "text": [
      "['32415', ['mike', 'reed'], 32, ['ELECTRONICS', 'SPORT', 'BOOKS'], [894, 213, 173]]\n"
     ]
    }
   ],
   "source": [
    "def clean_user(name_user, age):# define tu función aquí\n",
    "    # Paso 1: elimina del nombre espacios iniciales y finales, así como guiones\n",
    "    user_name_1 = name_user.strip().replace(\"_\",\" \")\n",
    "    # Paso 2: convierte la edad en entero\n",
    "    user_age_1 = int(age)\n",
    "    # Paso 3: separa el nombre y el apellido en una sublista\n",
    "    user_name_1 = user_name_1.split()\n",
    "    #Estoy creando una variable con la información del usuario, extrayendo los datos corregidos de nombre y edad\n",
    "    user_info = [test_user[0], user_name_1, user_age_1, test_user[3], test_user[4]]\n",
    "    return user_info\n",
    "\n",
    "# Prueba la función\n",
    "test_user = ['32415', ' mike_reed ', 32.0, ['ELECTRONICS', 'SPORT', 'BOOKS'], [894, 213, 173]]\n",
    "name_index = 1\n",
    "age_index = 2\n",
    "\n",
    "print(clean_user(test_user[name_index], test_user[age_index]))"
   ]
  },
  {
   "cell_type": "code",
   "execution_count": 3,
   "metadata": {},
   "outputs": [
    {
     "name": "stdout",
     "output_type": "stream",
     "text": [
      "['ELECTRONICS', 'SPORT', 'BOOKS', 'electronics', 'sport', 'books']\n"
     ]
    }
   ],
   "source": [
    "fav_categories = ['ELECTRONICS', 'SPORT', 'BOOKS']\n",
    "fav_categories_low = []\n",
    "\n",
    "for categorie in fav_categories:\n",
    "    x = 0 \n",
    "    categorie[x].lower()\n",
    "    fav_categories_low.append(categorie)\n",
    "    x += 1\n",
    "\n",
    "\n",
    "\n",
    "\n",
    "a = fav_categories[0].lower()\n",
    "b = fav_categories[1].lower()\n",
    "c = fav_categories[2].lower()\n",
    "fav_categories_low.extend([a, b, c])# escribe tu código aquí\n",
    "\n",
    "print(fav_categories_low)"
   ]
  },
  {
   "cell_type": "code",
   "execution_count": 4,
   "metadata": {},
   "outputs": [
    {
     "name": "stdout",
     "output_type": "stream",
     "text": [
      "['electronics', 'sport', 'books']\n"
     ]
    }
   ],
   "source": [
    "fav_categories = ['ELECTRONICS', 'SPORT', 'BOOKS']\n",
    "fav_categories_low = []\n",
    "\n",
    "for categorie in fav_categories:\n",
    "    x = categorie.lower()\n",
    "    fav_categories_low.append(x)\n",
    "\n",
    "print(fav_categories_low)"
   ]
  },
  {
   "cell_type": "code",
   "execution_count": 5,
   "metadata": {},
   "outputs": [
    {
     "name": "stdout",
     "output_type": "stream",
     "text": [
      "[['32415', ' mike_reed ', 32.0, ['electronics', 'sport', 'books'], [894, 213, 173]], ['31980', 'kate morgan', 24.0, ['clothes', 'books'], [439, 390]], 28.0, ['32761', 'SAMANTHA SMITH', 29.0, ['clothes', 'electronics', 'beauty'], [299, 679, 85]], ['32984', 'David White', 41.0, ['books', 'home', 'sport'], [234, 329, 243]], ['33001', 'emily brown', 26.0, ['beauty', 'home', 'food'], [213, 659, 79]], ['33767', ' Maria Garcia', 33.0, ['clothes', 'food', 'beauty'], [499, 189, 63]], ['33912', 'JOSE MARTINEZ', 22.0, ['sport', 'electronics', 'home'], [259, 549, 109]], ['34009', 'lisa wilson ', 35.0, ['home', 'books', 'clothes'], [329, 189, 329]], ['34278', 'James Lee', 28.0, ['beauty', 'clothes', 'electronics'], [189, 299, 579]]]\n"
     ]
    }
   ],
   "source": [
    "users = [\n",
    "    ['32415', ' mike_reed ', 32.0, ['ELECTRONICS', 'SPORT', 'BOOKS'], [894, 213, 173]],\n",
    "    ['31980', 'kate morgan', 24.0, ['CLOTHES', 'BOOKS'], [439, 390]],\n",
    "    ['32156', ' john doe ', 37.0, ['ELECTRONICS', 'HOME', 'FOOD'], [459, 120, 99]],\n",
    "    ['32761', 'SAMANTHA SMITH', 29.0, ['CLOTHES', 'ELECTRONICS', 'BEAUTY'], [299, 679, 85]],\n",
    "    ['32984', 'David White', 41.0, ['BOOKS', 'HOME', 'SPORT'], [234, 329, 243]],\n",
    "    ['33001', 'emily brown', 26.0, ['BEAUTY', 'HOME', 'FOOD'], [213, 659, 79]],\n",
    "    ['33767', ' Maria Garcia', 33.0, ['CLOTHES', 'FOOD', 'BEAUTY'], [499, 189, 63]],\n",
    "    ['33912', 'JOSE MARTINEZ', 22.0, ['SPORT', 'ELECTRONICS', 'HOME'], [259, 549, 109]],\n",
    "    ['34009', 'lisa wilson ', 35.0, ['HOME', 'BOOKS', 'CLOTHES'], [329, 189, 329]],\n",
    "    ['34278', 'James Lee', 28.0, ['BEAUTY', 'CLOTHES', 'ELECTRONICS'], [189, 299, 579]],\n",
    "]\n",
    "\n",
    "users_categories_low = []\n",
    "categories_only = []\n",
    "for user in users:\n",
    "    categories_low = []\n",
    "    categories = user[3]\n",
    "    categories_low.append(categories)\n",
    "    for categorie in categories_low:\n",
    "        categorie = [categories.lower() for categories in categorie]\n",
    "        categories_only.append(categorie)\n",
    "\n",
    "def eliminar_actividades(indice_categories, users):\n",
    "    new_list = users[indice_categories].pop(3)\n",
    "    return users\n",
    "\n",
    "\n",
    "a = eliminar_actividades(0,users)\n",
    "b = eliminar_actividades(1,users)\n",
    "c = eliminar_actividades(2,users)\n",
    "d = eliminar_actividades(3,users)\n",
    "e = eliminar_actividades(4,users)\n",
    "f = eliminar_actividades(5,users)\n",
    "g = eliminar_actividades(6,users)\n",
    "h = eliminar_actividades(7,users)\n",
    "i = eliminar_actividades(8,users)\n",
    "j = eliminar_actividades(9,users)\n",
    "\n",
    "users[0].insert(3, categories_only[0])\n",
    "users[1].insert(3, categories_only[1])\n",
    "users[2].insert(3, categories_only[2])\n",
    "users[3].insert(3, categories_only[3])\n",
    "users[4].insert(3, categories_only[4])\n",
    "users[5].insert(3, categories_only[5])\n",
    "users[6].insert(3, categories_only[6])\n",
    "users[7].insert(3, categories_only[7])\n",
    "users[8].insert(3, categories_only[8])\n",
    "users[9].insert(3, categories_only[9])\n",
    "\n",
    "users_categories_low = [users[0], users[1], user[2], users[3], users[4], users[5], users[6], users[7], users[8], users[9]]\n",
    "\n",
    "# escribe tu código aquí\n",
    "print(users_categories_low)\n",
    "\n"
   ]
  },
  {
   "cell_type": "code",
   "execution_count": 6,
   "metadata": {},
   "outputs": [
    {
     "name": "stdout",
     "output_type": "stream",
     "text": [
      "[['Juan', ['matemáticas', 'historia', 'ciencias']], ['María', ['literatura', 'química', 'física']], ['Pedro', ['geografía', 'arte', 'educación física']]]\n"
     ]
    }
   ],
   "source": [
    "estudiantes = [\n",
    "    ['Juan', ['Matemáticas', 'Historia', 'Ciencias']],\n",
    "    ['María', ['Literatura', 'Química', 'Física']],\n",
    "    ['Pedro', ['Geografía', 'Arte', 'Educación Física']]\n",
    "]\n",
    "\n",
    "new_list = []\n",
    "\n",
    "for estudiante in estudiantes:\n",
    "    estudiante[1] = [materia.lower() for materia in estudiante[1]]\n",
    "    new_list.append(estudiante)\n",
    "\n",
    "print(new_list)\n",
    "\n"
   ]
  },
  {
   "cell_type": "code",
   "execution_count": 7,
   "metadata": {},
   "outputs": [
    {
     "name": "stdout",
     "output_type": "stream",
     "text": [
      "[['32415', ' mike_reed ', 32.0, [894, 213, 173]], ['31980', 'kate morgan', 24.0, ['CLOTHES', 'BOOKS'], [439, 390]], ['32156', ' john doe ', 37.0, ['ELECTRONICS', 'HOME', 'FOOD'], [459, 120, 99]], ['32761', 'SAMANTHA SMITH', 29.0, ['CLOTHES', 'ELECTRONICS', 'BEAUTY'], [299, 679, 85]], ['32984', 'David White', 41.0, ['BOOKS', 'HOME', 'SPORT'], [234, 329, 243]], ['33001', 'emily brown', 26.0, ['BEAUTY', 'HOME', 'FOOD'], [213, 659, 79]], ['33767', ' Maria Garcia', 33.0, ['CLOTHES', 'FOOD', 'BEAUTY'], [499, 189, 63]], ['33912', 'JOSE MARTINEZ', 22.0, ['SPORT', 'ELECTRONICS', 'HOME'], [259, 549, 109]], ['34009', 'lisa wilson ', 35.0, ['HOME', 'BOOKS', 'CLOTHES'], [329, 189, 329]], ['34278', 'James Lee', 28.0, ['BEAUTY', 'CLOTHES', 'ELECTRONICS'], [189, 299, 579]]]\n"
     ]
    }
   ],
   "source": [
    "users = [\n",
    "    ['32415', ' mike_reed ', 32.0, ['ELECTRONICS', 'SPORT', 'BOOKS'], [894, 213, 173]],\n",
    "    ['31980', 'kate morgan', 24.0, ['CLOTHES', 'BOOKS'], [439, 390]],\n",
    "    ['32156', ' john doe ', 37.0, ['ELECTRONICS', 'HOME', 'FOOD'], [459, 120, 99]],\n",
    "    ['32761', 'SAMANTHA SMITH', 29.0, ['CLOTHES', 'ELECTRONICS', 'BEAUTY'], [299, 679, 85]],\n",
    "    ['32984', 'David White', 41.0, ['BOOKS', 'HOME', 'SPORT'], [234, 329, 243]],\n",
    "    ['33001', 'emily brown', 26.0, ['BEAUTY', 'HOME', 'FOOD'], [213, 659, 79]],\n",
    "    ['33767', ' Maria Garcia', 33.0, ['CLOTHES', 'FOOD', 'BEAUTY'], [499, 189, 63]],\n",
    "    ['33912', 'JOSE MARTINEZ', 22.0, ['SPORT', 'ELECTRONICS', 'HOME'], [259, 549, 109]],\n",
    "    ['34009', 'lisa wilson ', 35.0, ['HOME', 'BOOKS', 'CLOTHES'], [329, 189, 329]],\n",
    "    ['34278', 'James Lee', 28.0, ['BEAUTY', 'CLOTHES', 'ELECTRONICS'], [189, 299, 579]],\n",
    "]\n",
    "\n",
    "users[0].pop(3)\n",
    "print(users)"
   ]
  },
  {
   "cell_type": "code",
   "execution_count": 8,
   "metadata": {},
   "outputs": [
    {
     "name": "stdout",
     "output_type": "stream",
     "text": [
      "[['32415', ['mike', 'reed'], 32, ['electronics', 'sport', 'books'], [894, 213, 173]], ['31980', ['kate', 'morgan'], 24, ['clothes', 'books'], [439, 390]], ['32156', ['john', 'doe'], 37, ['electronics', 'home', 'food'], [459, 120, 99]], ['32761', ['samantha', 'smith'], 29, ['clothes', 'electronics', 'beauty'], [299, 679, 85]], ['32984', ['david', 'white'], 41, ['books', 'home', 'sport'], [234, 329, 243]], ['33001', ['emily', 'brown'], 26, ['beauty', 'home', 'food'], [213, 659, 79]], ['33767', ['maria', 'garcia'], 33, ['clothes', 'food', 'beauty'], [499, 189, 63]], ['33912', ['jose', 'martinez'], 22, ['sport', 'electronics', 'home'], [259, 549, 109]], ['34009', ['lisa', 'wilson'], 35, ['home', 'books', 'clothes'], [329, 189, 329]], ['34278', ['james', 'lee'], 28, ['beauty', 'clothes', 'electronics'], [189, 299, 579]]]\n"
     ]
    }
   ],
   "source": [
    "users = [\n",
    "    ['32415', ' mike_reed ', 32.0, ['ELECTRONICS', 'SPORT', 'BOOKS'], [894, 213, 173]],\n",
    "    ['31980', 'kate morgan', 24.0, ['CLOTHES', 'BOOKS'], [439, 390]],\n",
    "    ['32156', ' john doe ', 37.0, ['ELECTRONICS', 'HOME', 'FOOD'], [459, 120, 99]],\n",
    "    ['32761', 'SAMANTHA SMITH', 29.0, ['CLOTHES', 'ELECTRONICS', 'BEAUTY'], [299, 679, 85]],\n",
    "    ['32984', 'David White', 41.0, ['BOOKS', 'HOME', 'SPORT'], [234, 329, 243]],\n",
    "    ['33001', 'emily brown', 26.0, ['BEAUTY', 'HOME', 'FOOD'], [213, 659, 79]],\n",
    "    ['33767', ' Maria Garcia', 33.0, ['CLOTHES', 'FOOD', 'BEAUTY'], [499, 189, 63]],\n",
    "    ['33912', 'JOSE MARTINEZ', 22.0, ['SPORT', 'ELECTRONICS', 'HOME'], [259, 549, 109]],\n",
    "    ['34009', 'lisa wilson ', 35.0, ['HOME', 'BOOKS', 'CLOTHES'], [329, 189, 329]],\n",
    "    ['34278', 'James Lee', 28.0, ['BEAUTY', 'CLOTHES', 'ELECTRONICS'], [189, 299, 579]],\n",
    "]\n",
    "\n",
    "categories_list = []\n",
    "for user in users:\n",
    "    user[1] = user[1].lower()\n",
    "    user[1] = user[1].strip().replace(\"_\",\" \")\n",
    "    user[3] = [categoria.lower() for categoria in user[3]]\n",
    "    user[2] = int(user[2])\n",
    "    user[1] = user[1].split()\n",
    "    categories_list.append(user)\n",
    "\n",
    "print(categories_list)"
   ]
  },
  {
   "cell_type": "code",
   "execution_count": 9,
   "metadata": {},
   "outputs": [
    {
     "name": "stdout",
     "output_type": "stream",
     "text": [
      "[[['32415', ['mike', 'reed'], 32, ['electronics', 'sport', 'books'], [894, 213, 173]]], [['31980', ['kate', 'morgan'], 24, ['clothes', 'books'], [439, 390]]], [['32156', ['john', 'doe'], 37, ['electronics', 'home', 'food'], [459, 120, 99]]], [['32761', ['samantha', 'smith'], 29, ['clothes', 'electronics', 'beauty'], [299, 679, 85]]], [['32984', ['david', 'white'], 41, ['books', 'home', 'sport'], [234, 329, 243]]], [['33001', ['emily', 'brown'], 26, ['beauty', 'home', 'food'], [213, 659, 79]]], [['33767', ['maria', 'garcia'], 33, ['clothes', 'food', 'beauty'], [499, 189, 63]]], [['33912', ['jose', 'martinez'], 22, ['sport', 'electronics', 'home'], [259, 549, 109]]], [['34009', ['lisa', 'wilson'], 35, ['home', 'books', 'clothes'], [329, 189, 329]]], [['34278', ['james', 'lee'], 28, ['beauty', 'clothes', 'electronics'], [189, 299, 579]]]]\n"
     ]
    }
   ],
   "source": [
    "def clean_user(user_info, name_index, age_index, cat_index):\n",
    "\n",
    "  # Paso 1: pon todo en minúsculas y elimina del nombre espacios iniciales y finales, así como guiones\n",
    "  user_name_1 = user_info[name_index].lower().strip().replace(\"_\",\" \")# escribe tu código aquí\n",
    "\n",
    "  # Paso 2: convierte la edad en entero\n",
    "  user_age_1 = int(user_info[age_index])# escribe tu código aquí\n",
    "\n",
    "  # Paso 3: separa el nombre y el apellido en una sublista\n",
    "  user_name_1 = user_name_1.split()# escribe tu código aquí\n",
    "\n",
    "  # Paso 4: separa el nombre y el apellido en una sublista\n",
    "  categories_low = []\n",
    "  user_clean_1 = []\n",
    "  for category in user_info[cat_index]:\n",
    "    categories_low.append(category.lower())\n",
    "\n",
    "  user_clean_1.append([user_info[0], user_name_1, user_age_1, categories_low, user_info[4]])\n",
    "\n",
    "\n",
    "      # Prepara la lista con la información completa del usuario\n",
    "  # Reemplaza el nombre y la edad originales con los datos limpios\n",
    "  # escribe tu código aquí\n",
    "\n",
    "  return user_clean_1\n",
    "\n",
    "\n",
    "users = [\n",
    "    ['32415', ' mike_reed ', 32.0, ['ELECTRONICS', 'SPORT', 'BOOKS'], [894, 213, 173]],\n",
    "    ['31980', 'kate morgan', 24.0, ['CLOTHES', 'BOOKS'], [439, 390]],\n",
    "    ['32156', ' john doe ', 37.0, ['ELECTRONICS', 'HOME', 'FOOD'], [459, 120, 99]],\n",
    "    ['32761', 'SAMANTHA SMITH', 29.0, ['CLOTHES', 'ELECTRONICS', 'BEAUTY'], [299, 679, 85]],\n",
    "    ['32984', 'David White', 41.0, ['BOOKS', 'HOME', 'SPORT'], [234, 329, 243]],\n",
    "    ['33001', 'emily brown', 26.0, ['BEAUTY', 'HOME', 'FOOD'], [213, 659, 79]],\n",
    "    ['33767', ' Maria Garcia', 33.0, ['CLOTHES', 'FOOD', 'BEAUTY'], [499, 189, 63]],\n",
    "    ['33912', 'JOSE MARTINEZ', 22.0, ['SPORT', 'ELECTRONICS', 'HOME'], [259, 549, 109]],\n",
    "    ['34009', 'lisa wilson ', 35.0, ['HOME', 'BOOKS', 'CLOTHES'], [329, 189, 329]],\n",
    "    ['34278', 'James Lee', 28.0, ['BEAUTY', 'CLOTHES', 'ELECTRONICS'], [189, 299, 579]],\n",
    "]\n",
    "\n",
    "name_index = 1\n",
    "age_index = 2\n",
    "cat_index = 3\n",
    "users_cleaned = []\n",
    "\n",
    "for user in users:# escribe tu código aquí\n",
    "  user_cleaned = clean_user(user, name_index, age_index, cat_index)# escribe tu código aquí\n",
    "  users_cleaned.append(user_cleaned) # escribe tu código aquí\n",
    "\n",
    "print(users_cleaned)"
   ]
  },
  {
   "cell_type": "code",
   "execution_count": 10,
   "metadata": {},
   "outputs": [
    {
     "name": "stdout",
     "output_type": "stream",
     "text": [
      "9189\n"
     ]
    }
   ],
   "source": [
    "users = [['32415', ['mike', 'reed'], 32, ['electronics', 'sport', 'books'], [894, 213, 173]],\n",
    "         ['31980', ['kate', 'morgan'], 24, ['clothes', 'books'], [439, 390]],\n",
    "         ['32156', ['john', 'doe'], 37, ['electronics', 'home', 'food'], [459, 120, 99]],\n",
    "         ['32761', ['samantha', 'smith'], 29, ['clothes', 'electronics', 'beauty'], [299, 679, 85]],\n",
    "         ['32984', ['david', 'white'], 41, ['books', 'home', 'sport'], [234, 329, 243]],\n",
    "         ['33001', ['emily', 'brown'], 26, ['beauty', 'home', 'food'], [213, 659, 79]],\n",
    "         ['33767', ['maria', 'garcia'], 33, ['clothes', 'food', 'beauty'], [499, 189, 63]],\n",
    "         ['33912', ['jose', 'martinez'], 22, ['sport', 'electronics', 'home'], [259, 549, 109]],\n",
    "         ['34009', ['lisa', 'wilson'], 35, ['home', 'books', 'clothes'], [329, 189, 329]],\n",
    "         ['34278', ['james', 'lee'], 28, ['beauty', 'clothes', 'electronics'], [189, 299, 579]]]\n",
    "\n",
    "revenue = 0\n",
    "\n",
    "for user in users:\n",
    "\tspending_list = sum(user[4])\n",
    "\trevenue += spending_list\n",
    "\t# escribe tu código aquí\n",
    "\n",
    "print(revenue)"
   ]
  },
  {
   "cell_type": "code",
   "execution_count": 11,
   "metadata": {},
   "outputs": [
    {
     "name": "stdout",
     "output_type": "stream",
     "text": [
      "1513\n"
     ]
    }
   ],
   "source": [
    "from random import randint\n",
    "\n",
    "total_amount_spent = 1280\n",
    "target_amount = 1500\n",
    "\n",
    "while total_amount_spent < target_amount:# escribe tu código aquí\n",
    "\tnew_purchase = randint(30, 80) # generamos un número aleatorio de 30 a 80\n",
    "\ttotal_amount_spent +=  new_purchase# escribe tu código aquí\n",
    "\n",
    "print(total_amount_spent)"
   ]
  },
  {
   "cell_type": "code",
   "execution_count": 12,
   "metadata": {},
   "outputs": [
    {
     "name": "stdout",
     "output_type": "stream",
     "text": [
      "kate\n",
      "samantha\n",
      "emily\n",
      "jose\n",
      "james\n"
     ]
    }
   ],
   "source": [
    "users = [['32415', ['mike', 'reed'], 32, ['electronics', 'sport', 'books'], [894, 213, 173]],\n",
    "         ['31980', ['kate', 'morgan'], 24, ['clothes', 'books'], [439, 390]],\n",
    "         ['32156', ['john', 'doe'], 37, ['electronics', 'home', 'food'], [459, 120, 99]],\n",
    "         ['32761', ['samantha', 'smith'], 29, ['clothes', 'electronics', 'beauty'], [299, 679, 85]],\n",
    "         ['32984', ['david', 'white'], 41, ['books', 'home', 'sport'], [234, 329, 243]],\n",
    "         ['33001', ['emily', 'brown'], 26, ['beauty', 'home', 'food'], [213, 659, 79]],\n",
    "         ['33767', ['maria', 'garcia'], 33, ['clothes', 'food', 'beauty'], [499, 189, 63]],\n",
    "         ['33912', ['jose', 'martinez'], 22, ['sport', 'electronics', 'home'], [259, 549, 109]],\n",
    "         ['34009', ['lisa', 'wilson'], 35, ['home', 'books', 'clothes'], [329, 189, 329]],\n",
    "         ['34278', ['james', 'lee'], 28, ['beauty', 'clothes', 'electronics'], [189, 299, 579]]]\n",
    "\n",
    "for user in users:\n",
    "    if user[2] < 30:\n",
    "        print(user[1][0])\n",
    "    \n",
    "    "
   ]
  },
  {
   "cell_type": "code",
   "execution_count": 13,
   "metadata": {},
   "outputs": [
    {
     "name": "stdout",
     "output_type": "stream",
     "text": [
      "samantha\n",
      "james\n"
     ]
    }
   ],
   "source": [
    "users = [['32415', ['mike', 'reed'], 32, ['electronics', 'sport', 'books'], [894, 213, 173]],\n",
    "         ['31980', ['kate', 'morgan'], 24, ['clothes', 'books'], [439, 390]],\n",
    "         ['32156', ['john', 'doe'], 37, ['electronics', 'home', 'food'], [459, 120, 99]],\n",
    "         ['32761', ['samantha', 'smith'], 29, ['clothes', 'electronics', 'beauty'], [299, 679, 85]],\n",
    "         ['32984', ['david', 'white'], 41, ['books', 'home', 'sport'], [234, 329, 243]],\n",
    "         ['33001', ['emily', 'brown'], 26, ['beauty', 'home', 'food'], [213, 659, 79]],\n",
    "         ['33767', ['maria', 'garcia'], 33, ['clothes', 'food', 'beauty'], [499, 189, 63]],\n",
    "         ['33912', ['jose', 'martinez'], 22, ['sport', 'electronics', 'home'], [259, 549, 109]],\n",
    "         ['34009', ['lisa', 'wilson'], 35, ['home', 'books', 'clothes'], [329, 189, 329]],\n",
    "         ['34278', ['james', 'lee'], 28, ['beauty', 'clothes', 'electronics'], [189, 299, 579]]]\n",
    "\n",
    "for user in users:\n",
    "    gastos = sum(user[4])\n",
    "    if user[2] < 30 and gastos > 1000:\n",
    "        print(user[1][0])"
   ]
  },
  {
   "cell_type": "code",
   "execution_count": 14,
   "metadata": {},
   "outputs": [
    {
     "name": "stdout",
     "output_type": "stream",
     "text": [
      "kate 24\n",
      "samantha 29\n",
      "maria 33\n",
      "lisa 35\n",
      "james 28\n"
     ]
    }
   ],
   "source": [
    "users = [['32415', ['mike', 'reed'], 32, ['electronics', 'sport', 'books'], [894, 213, 173]],\n",
    "         ['31980', ['kate', 'morgan'], 24, ['clothes', 'books'], [439, 390]],\n",
    "         ['32156', ['john', 'doe'], 37, ['electronics', 'home', 'food'], [459, 120, 99]],\n",
    "         ['32761', ['samantha', 'smith'], 29, ['clothes', 'electronics', 'beauty'], [299, 679, 85]],\n",
    "         ['32984', ['david', 'white'], 41, ['books', 'home', 'sport'], [234, 329, 243]],\n",
    "         ['33001', ['emily', 'brown'], 26, ['beauty', 'home', 'food'], [213, 659, 79]],\n",
    "         ['33767', ['maria', 'garcia'], 33, ['clothes', 'food', 'beauty'], [499, 189, 63]],\n",
    "         ['33912', ['jose', 'martinez'], 22, ['sport', 'electronics', 'home'], [259, 549, 109]],\n",
    "         ['34009', ['lisa', 'wilson'], 35, ['home', 'books', 'clothes'], [329, 189, 329]],\n",
    "         ['34278', ['james', 'lee'], 28, ['beauty', 'clothes', 'electronics'], [189, 299, 579]]]\n",
    "\n",
    "for user in users:\n",
    "    categories = user[3]\n",
    "    for categorie in categories:\n",
    "        if categorie == 'clothes':\n",
    "            print(user[1][0], user[2])\n"
   ]
  },
  {
   "cell_type": "code",
   "execution_count": 15,
   "metadata": {},
   "outputs": [
    {
     "name": "stdout",
     "output_type": "stream",
     "text": [
      "[['32156', ['john', 'doe'], 37, 678], ['32984', ['david', 'white'], 41, 806], ['33001', ['emily', 'brown'], 26, 951], ['33912', ['jose', 'martinez'], 22, 917], ['34009', ['lisa', 'wilson'], 35, 847]]\n"
     ]
    }
   ],
   "source": [
    "def get_client_by_cat(users, id_index, name_index, age_index, category_index, amounts_index, filter_category):\n",
    "    user_info = []\n",
    "    for user in users:\n",
    "        if filter_category in user[category_index]:\n",
    "            total = sum(user[amounts_index])\n",
    "            user_info.append([user[id_index], user[name_index], user[age_index], total])\n",
    "            \n",
    "    return user_info\n",
    "            # escribe tu código aquí\n",
    "    # escribe tu código aquí\n",
    "\n",
    "# La lista de usuarios\n",
    "users = [\n",
    "    ['32415', ['mike', 'reed'], 32, ['electronics', 'sport', 'books'], [894, 213, 173]],\n",
    "    ['31980', ['kate', 'morgan'], 24, ['clothes', 'books'], [439, 390]],\n",
    "    ['32156', ['john', 'doe'], 37, ['electronics', 'home', 'food'], [459, 120, 99]],\n",
    "    ['32761', ['samantha', 'smith'], 29, ['clothes', 'electronics', 'beauty'], [299, 679, 85]],\n",
    "    ['32984', ['david', 'white'], 41, ['books', 'home', 'sport'], [234, 329, 243]],\n",
    "    ['33001', ['emily', 'brown'], 26, ['beauty', 'home', 'food'], [213, 659, 79]],\n",
    "    ['33767', ['maria', 'garcia'], 33, ['clothes', 'food', 'beauty'], [499, 189, 63]],\n",
    "    ['33912', ['jose', 'martinez'], 22, ['sport', 'electronics', 'home'], [259, 549, 109]],\n",
    "    ['34009', ['lisa', 'wilson'], 35, ['home', 'books', 'clothes'], [329, 189, 329]],\n",
    "    ['34278', ['james', 'lee'], 28, ['beauty', 'clothes', 'electronics'], [189, 299, 579]]\n",
    "]\n",
    "\n",
    "# Llama a la función con la categoría 'home'\n",
    "result = get_client_by_cat(users, 0, 1, 2, 3, 4, 'home')# escribe tu código aquí\n",
    "\n",
    "# Muestra en pantalla la lista que resulta\n",
    "print(result)"
   ]
  },
  {
   "cell_type": "code",
   "execution_count": null,
   "metadata": {},
   "outputs": [],
   "source": []
  }
 ],
 "metadata": {
  "kernelspec": {
   "display_name": "Python 3",
   "language": "python",
   "name": "python3"
  },
  "language_info": {
   "codemirror_mode": {
    "name": "ipython",
    "version": 3
   },
   "file_extension": ".py",
   "mimetype": "text/x-python",
   "name": "python",
   "nbconvert_exporter": "python",
   "pygments_lexer": "ipython3",
   "version": "3.13.0"
  }
 },
 "nbformat": 4,
 "nbformat_minor": 2
}
